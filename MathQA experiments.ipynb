{
 "cells": [
  {
   "cell_type": "code",
   "execution_count": 53,
   "id": "f5f30e12",
   "metadata": {},
   "outputs": [],
   "source": [
    "import sys\n",
    "\n",
    "import torch\n",
    "from torch.utils.data import DataLoader\n",
    "\n",
    "from transformers import RobertaTokenizer, T5ForConditionalGeneration\n",
    "from dataloader import read_mathqapython, MathQAPython "
   ]
  },
  {
   "cell_type": "code",
   "execution_count": 54,
   "id": "c297c994",
   "metadata": {},
   "outputs": [],
   "source": [
    "# Take a look at some data\n",
    "data = read_mathqapython('data/mathqapython_dev.json')"
   ]
  },
  {
   "cell_type": "code",
   "execution_count": 55,
   "id": "9cccd785",
   "metadata": {},
   "outputs": [
    {
     "data": {
      "text/plain": [
       "{'text': '# mr . kramer , the losing candidate in a two - candidate election , received 942,568 votes , which was exactly 25 percent of all votes cast . approximately what percent of the remaining votes would he need to have received in order to have won at least 50 percent of all the votes cast ? n0 = 942568.0 n1 = 25.0 n2 = 50.0',\n",
       " 'code': 'n0 = 942568.0\\nn1 = 25.0\\nn2 = 50.0\\nt0 = n2 / 100.0\\nt1 = n1 / 100.0\\nt2 = t0 - t1\\nt3 = 1.0 - t1\\nt4 = t2 / t3\\nanswer = t4 * 100.0',\n",
       " 'dsl_code': 'divide(n2,const_100)|divide(n1,const_100)|subtract(#0,#1)|subtract(const_1,#1)|divide(#2,#3)|multiply(#4,const_100)|',\n",
       " 'reasoning': 'lets assume that candidate got 25 % votes and total votes is 100 . candidate won = 25 remaining = 75 to get 50 % , candidate requires 25 votes from 100 which is 25 % and 25 votes from 75 . 25 / 75 = 33.33 % which is approx 33 % . hence the answer is e',\n",
       " 'answer': 33.33333333333333,\n",
       " 'task_id': 35}"
      ]
     },
     "execution_count": 55,
     "metadata": {},
     "output_type": "execute_result"
    }
   ],
   "source": [
    "data[35]"
   ]
  },
  {
   "cell_type": "code",
   "execution_count": 56,
   "id": "c54b2b9d",
   "metadata": {},
   "outputs": [],
   "source": [
    "class MathQAPython(torch.utils.data.Dataset): \n",
    "    def __init__(self, instance_list, tokenizer, text_len, code_len): \n",
    "        self.data = instance_list \n",
    "        self.tokenizer = tokenizer \n",
    "        self.text_len = text_len\n",
    "        self.code_len = code_len\n",
    "    \n",
    "\n",
    "    def __getitem__(self, idx): \n",
    "        instance = self.data[idx]\n",
    "        text = instance['text']\n",
    "        code = instance['code']\n",
    "        answer = instance['answer']\n",
    "\n",
    "        text_encode = self.tokenizer(text, max_length = self.text_len, pad_to_max_length=False, return_tensors='pt')\n",
    "        code_encode = self.tokenizer(code, max_length = self.code_len, pad_to_max_length=False, return_tensors='pt')\n",
    "        text_ids = text_encode['input_ids'].squeeze()\n",
    "        text_mask = text_encode['attention_mask'].squeeze()\n",
    "        code_ids = code_encode['input_ids'].squeeze()\n",
    "        code_mask = code_encode['attention_mask'].squeeze()\n",
    "\n",
    "        return {\n",
    "                'text_ids': text_ids.to(dtype=torch.long), \n",
    "                'text_mask': text_mask.to(dtype=torch.long), \n",
    "                'code_ids': code_ids.to(dtype=torch.long), \n",
    "                'code_mask': code_mask.to(dtype=torch.long), \n",
    "                'answer': answer\n",
    "                }\n",
    "\n",
    "\n",
    "    def __len__(self): \n",
    "        return len(self.data)"
   ]
  },
  {
   "cell_type": "code",
   "execution_count": 57,
   "id": "2d5a90b4",
   "metadata": {},
   "outputs": [],
   "source": [
    "tokenizer = RobertaTokenizer.from_pretrained('Salesforce/codet5-base')\n",
    "\n",
    "test_set = MathQAPython(data, tokenizer, 256, 256)\n",
    "\n",
    "loader = DataLoader(test_set, batch_size=1, shuffle=True)"
   ]
  },
  {
   "cell_type": "code",
   "execution_count": 58,
   "id": "63684c56",
   "metadata": {},
   "outputs": [],
   "source": [
    "model = T5ForConditionalGeneration.from_pretrained('Salesforce/codet5-base')"
   ]
  },
  {
   "cell_type": "code",
   "execution_count": 68,
   "id": "3dc75139",
   "metadata": {},
   "outputs": [
    {
     "name": "stdout",
     "output_type": "stream",
     "text": [
      "<s># the income tax in country x is 8 % of any income up to $ 5000. for incomes over $ 5000, an 8 % tax is imposed on the first $ 5000, and a 10 % tax is imposed on the portion of the total income in excess of $ 5000. if perry paid $ 950 in income tax last month, then what was perry's income? n0 = 8.0 n1 = 5000.0 n2 = 5000.0 n3 = 8.0 n4 = 5000.0 n5 = 10.0 n6 = 5000.0 n7 = 950.0</s>\n",
      "theincome taxthetheincomethethethethethethethethethethethethethethethethethethethethethe\n"
     ]
    }
   ],
   "source": [
    "for batch in loader: \n",
    "    ids = batch['text_ids']\n",
    "    mask = batch['text_mask']\n",
    "    generated_ids = model.generate(\n",
    "        input_ids=ids, \n",
    "        attention_mask=mask, \n",
    "        max_length=512\n",
    "        )\n",
    "    print(tokenizer.decode(ids.squeeze(), skip_special_toeksn=True))\n",
    "    print(tokenizer.decode(generated_ids[0], skip_special_tokens=True))\n",
    "\n",
    "    break\n",
    "    "
   ]
  }
 ],
 "metadata": {
  "kernelspec": {
   "display_name": "Python 3 (ipykernel)",
   "language": "python",
   "name": "python3"
  },
  "language_info": {
   "codemirror_mode": {
    "name": "ipython",
    "version": 3
   },
   "file_extension": ".py",
   "mimetype": "text/x-python",
   "name": "python",
   "nbconvert_exporter": "python",
   "pygments_lexer": "ipython3",
   "version": "3.9.7"
  }
 },
 "nbformat": 4,
 "nbformat_minor": 5
}
